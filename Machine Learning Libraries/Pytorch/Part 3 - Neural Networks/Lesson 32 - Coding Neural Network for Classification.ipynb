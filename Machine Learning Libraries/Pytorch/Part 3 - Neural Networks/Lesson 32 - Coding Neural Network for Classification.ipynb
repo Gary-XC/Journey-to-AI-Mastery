{
 "cells": [
  {
   "cell_type": "markdown",
   "metadata": {},
   "source": [
    "## Coding a Neural Network For Classification Data\n",
    "\n",
    "#### Building A Model:\n",
    "\n",
    "Building a model to classify the blue and red dots.\n",
    "\n",
    "Steps:\n",
    "1. Setup device agnostic code to access faster computation from the GPU\n",
    "2. Construct a model by sub-classing nn.Module\n",
    "3. Defining a loss function and an optimizer\n",
    "4. Create a training loop"
   ]
  },
  {
   "cell_type": "code",
   "execution_count": 3,
   "metadata": {},
   "outputs": [
    {
     "data": {
      "text/plain": [
       "'cuda'"
      ]
     },
     "execution_count": 3,
     "metadata": {},
     "output_type": "execute_result"
    }
   ],
   "source": [
    "import torch\n",
    "from torch import nn\n",
    "\n",
    "# setting up device agnostic code\n",
    "device = \"cuda\" if torch.cuda.is_available() else \"cpu\"\n",
    "\n",
    "device"
   ]
  },
  {
   "cell_type": "markdown",
   "metadata": {},
   "source": [
    "##### Creating a Model:\n",
    "1. Subclasses nn.module \n",
    "2. Creates 2 nn.Linear() layers that are capable of handling the shapes of the data\n",
    "3. Create a forward() method that outline the forward pass or computation\n",
    "4. Instantiate an instance of the model class and sending it to the target device"
   ]
  },
  {
   "cell_type": "code",
   "execution_count": 11,
   "metadata": {},
   "outputs": [
    {
     "data": {
      "text/plain": [
       "CircleModel(\n",
       "  (layer1): Linear(in_features=2, out_features=5, bias=True)\n",
       "  (layer2): Linear(in_features=5, out_features=1, bias=True)\n",
       ")"
      ]
     },
     "execution_count": 11,
     "metadata": {},
     "output_type": "execute_result"
    }
   ],
   "source": [
    "# 1. Construct a model that subclasses nn.Module\n",
    "\n",
    "class CircleModel(nn.Module): # subclassing nn.Module here\n",
    "    def __init__(self):\n",
    "        super().__init__()\n",
    "        # 2. Create 2 nn.Linear() layers\n",
    "        self.layer1 = nn.Linear(in_features=2, out_features=5) # takes in 2 features and upscales to 5 features, so the next layer has to have the same features in the input features in order to match the two layers\n",
    "        self.layer2 = nn.Linear(in_features=5, out_features=1) # the last layer is the output layer, and the current in features of the layer have to be the same as the outputs of the previous layer, otherwise there will be \n",
    "                                                               # shape mismatch errors (takes in 5 features from the previous layer and outputs a single feature to be the same shape as y)\n",
    "    \n",
    "    # 3. Defining a forward() method that outline the forward path\n",
    "    def forward(self, x):\n",
    "        return self.layer2(self.layer1(x)) # passing the value of layer1 with x to layer2 (reverse order): x -> layer1 -> layer2 -> output\n",
    "    \n",
    "# 4. Instantiate an instance of the model class\n",
    "model0 = CircleModel().to(device)\n",
    "model0"
   ]
  },
  {
   "cell_type": "code",
   "execution_count": 12,
   "metadata": {},
   "outputs": [
    {
     "data": {
      "text/plain": [
       "device(type='cuda', index=0)"
      ]
     },
     "execution_count": 12,
     "metadata": {},
     "output_type": "execute_result"
    }
   ],
   "source": [
    "next(model0.parameters()).device"
   ]
  },
  {
   "cell_type": "markdown",
   "metadata": {},
   "source": [
    "#### Making The Neural Network Visual\n",
    "\n",
    "Websites:\n",
    "* Tensorflow Neural Network Playground"
   ]
  }
 ],
 "metadata": {
  "kernelspec": {
   "display_name": "mlenv",
   "language": "python",
   "name": "python3"
  },
  "language_info": {
   "codemirror_mode": {
    "name": "ipython",
    "version": 3
   },
   "file_extension": ".py",
   "mimetype": "text/x-python",
   "name": "python",
   "nbconvert_exporter": "python",
   "pygments_lexer": "ipython3",
   "version": "3.9.18"
  }
 },
 "nbformat": 4,
 "nbformat_minor": 2
}
