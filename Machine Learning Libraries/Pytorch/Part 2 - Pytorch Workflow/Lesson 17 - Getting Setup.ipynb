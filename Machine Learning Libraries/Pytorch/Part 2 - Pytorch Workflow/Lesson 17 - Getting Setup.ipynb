{
 "cells": [
  {
   "cell_type": "markdown",
   "metadata": {},
   "source": [
    "# Pytorch Workflow\n",
    "\n",
    "Explore a sample Pytorch End to End Workflow."
   ]
  },
  {
   "cell_type": "code",
   "execution_count": 1,
   "metadata": {},
   "outputs": [
    {
     "data": {
      "text/plain": [
       "{1: 'data (preparing and loading)',\n",
       " 2: 'Build Model',\n",
       " 3: 'Fitting the Model to Data (training)',\n",
       " 4: 'Making predictions and evaulate the models',\n",
       " 5: 'Saving and loading a model',\n",
       " 6: 'putting it all together'}"
      ]
     },
     "execution_count": 1,
     "metadata": {},
     "output_type": "execute_result"
    }
   ],
   "source": [
    "covering = {1: \"data (preparing and loading)\",\n",
    "            2: \"Build Model\",\n",
    "            3: \"Fitting the Model to Data (training)\",\n",
    "            4: \"Making predictions and evaulate the models\",\n",
    "            5: \"Saving and loading a model\",\n",
    "            6: \"putting it all together\"}\n",
    "\n",
    "covering"
   ]
  },
  {
   "cell_type": "code",
   "execution_count": 3,
   "metadata": {},
   "outputs": [
    {
     "data": {
      "text/plain": [
       "'2.1.1+cu118'"
      ]
     },
     "execution_count": 3,
     "metadata": {},
     "output_type": "execute_result"
    }
   ],
   "source": [
    "import torch\n",
    "from torch import nn # torch.nn includes all of the pytorch building blocks\n",
    "# https://pytorch.org/docs/stable/nn.html, docstring for torch.nn\n",
    "\n",
    "import matplotlib as plt\n",
    "\n",
    "torch.__version__"
   ]
  },
  {
   "cell_type": "code",
   "execution_count": null,
   "metadata": {},
   "outputs": [],
   "source": []
  }
 ],
 "metadata": {
  "kernelspec": {
   "display_name": "mlenv",
   "language": "python",
   "name": "python3"
  },
  "language_info": {
   "codemirror_mode": {
    "name": "ipython",
    "version": 3
   },
   "file_extension": ".py",
   "mimetype": "text/x-python",
   "name": "python",
   "nbconvert_exporter": "python",
   "pygments_lexer": "ipython3",
   "version": "3.9.18"
  }
 },
 "nbformat": 4,
 "nbformat_minor": 2
}
