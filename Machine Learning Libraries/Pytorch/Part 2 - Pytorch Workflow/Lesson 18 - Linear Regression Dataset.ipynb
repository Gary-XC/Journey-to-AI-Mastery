{
 "cells": [
  {
   "cell_type": "markdown",
   "metadata": {},
   "source": [
    "## 1. Data (preparing and loading)\n",
    "\n",
    "Data can be almost anything in machine learning\n",
    "\n",
    "* Excel Spreadsheet\n",
    "* Images\n",
    "* Video\n",
    "* Audio\n",
    "* DNA\n",
    "* Text\n",
    "\n",
    "Machine Learning Has Two Parts:\n",
    "1. Get data into a numerical representation\n",
    "2. Build a model that learns patterns in the numerical representation\n",
    "\n",
    "Create some *known* data using the Linear Regression Formula:\n",
    "- Make a straight line to make a linear regression formula with *known parameters*"
   ]
  },
  {
   "cell_type": "code",
   "execution_count": 3,
   "metadata": {},
   "outputs": [],
   "source": [
    "import torch\n",
    "from torch import nn\n",
    "\n",
    "import matplotlib as plt"
   ]
  },
  {
   "cell_type": "code",
   "execution_count": 7,
   "metadata": {},
   "outputs": [
    {
     "data": {
      "text/plain": [
       "(tensor([[0.0000],\n",
       "         [0.0200],\n",
       "         [0.0400],\n",
       "         [0.0600],\n",
       "         [0.0800],\n",
       "         [0.1000],\n",
       "         [0.1200],\n",
       "         [0.1400],\n",
       "         [0.1600],\n",
       "         [0.1800]]),\n",
       " tensor([[0.3000],\n",
       "         [0.3182],\n",
       "         [0.3364],\n",
       "         [0.3546],\n",
       "         [0.3728],\n",
       "         [0.3910],\n",
       "         [0.4092],\n",
       "         [0.4274],\n",
       "         [0.4456],\n",
       "         [0.4638]]))"
      ]
     },
     "execution_count": 7,
     "metadata": {},
     "output_type": "execute_result"
    }
   ],
   "source": [
    "# Creating known parameters\n",
    "weight = 0.91\n",
    "bias = 0.3\n",
    "\n",
    "# Create\n",
    "start = 0\n",
    "end = 1\n",
    "step = 0.02\n",
    "# parameters for creating the tensor: X\n",
    "\n",
    "X = torch.arange(start, end, step).unsqueeze(dim = 1)\n",
    "# adds an extra dimension so theres an extra square bracket and each element of X, y are on different lines in the output for betting viewing\n",
    "y = weight * X + bias # is Linear Regression Formula\n",
    "\n",
    "X[:10], y[:10] "
   ]
  },
  {
   "cell_type": "code",
   "execution_count": 8,
   "metadata": {},
   "outputs": [
    {
     "data": {
      "text/plain": [
       "(50, 50)"
      ]
     },
     "execution_count": 8,
     "metadata": {},
     "output_type": "execute_result"
    }
   ],
   "source": [
    "len(X), len(y)"
   ]
  }
 ],
 "metadata": {
  "kernelspec": {
   "display_name": "mlenv",
   "language": "python",
   "name": "python3"
  },
  "language_info": {
   "codemirror_mode": {
    "name": "ipython",
    "version": 3
   },
   "file_extension": ".py",
   "mimetype": "text/x-python",
   "name": "python",
   "nbconvert_exporter": "python",
   "pygments_lexer": "ipython3",
   "version": "3.9.18"
  }
 },
 "nbformat": 4,
 "nbformat_minor": 2
}
