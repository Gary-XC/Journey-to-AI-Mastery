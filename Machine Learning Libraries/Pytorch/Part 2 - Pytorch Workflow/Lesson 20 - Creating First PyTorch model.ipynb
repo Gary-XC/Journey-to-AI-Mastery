{
 "cells": [
  {
   "cell_type": "markdown",
   "metadata": {},
   "source": [
    "### 2. Build Model\n",
    "Building our first Pytorch Linear Regression Model\n",
    "\n",
    "What the model does:\n",
    "* Start with random values (weight and bias)\n",
    "* Looks at training data and adjusts the random values to better represent(or get closer) the ideal values (the weights and bias values used to create the data)\n",
    "\n",
    "This Occurs Through Two Main Algorithms:\n",
    "1. Gradient Descent\n",
    "2. Backprogation"
   ]
  },
  {
   "cell_type": "code",
   "execution_count": 2,
   "metadata": {},
   "outputs": [],
   "source": [
    "import torch\n",
    "from torch import nn"
   ]
  },
  {
   "cell_type": "code",
   "execution_count": 3,
   "metadata": {},
   "outputs": [],
   "source": [
    "class LinearRegressionModel(nn.Module): # almost everything in Pytorch inherints from nn.Module, and can be considered the building blocks for pytorch\n",
    "    def __init__(self):\n",
    "        super().__init__()\n",
    "        \n",
    "        self.weights = nn.Parameter(torch.randn(1,\n",
    "                                                requires_grad=True, # grad = True is set by default, one of the main algorithms for predictions\n",
    "                                                dtype= torch.float))\n",
    "        \n",
    "        self.bias = nn.Parameter(torch.randn(1,\n",
    "                                             requires_grad= True,\n",
    "                                             dtype= torch.float))\n",
    "        \n",
    "        def forward(self, x: torch.Tensor) -> torch.Tensor: # -> means the return value, very similar to java, but for python its included outside of the method\n",
    "            # 'x' is the input data\n",
    "            return self.weights * x + self.bias # linear regression formula"
   ]
  }
 ],
 "metadata": {
  "kernelspec": {
   "display_name": "mlenv",
   "language": "python",
   "name": "python3"
  },
  "language_info": {
   "codemirror_mode": {
    "name": "ipython",
    "version": 3
   },
   "file_extension": ".py",
   "mimetype": "text/x-python",
   "name": "python",
   "nbconvert_exporter": "python",
   "pygments_lexer": "ipython3",
   "version": "3.9.18"
  }
 },
 "nbformat": 4,
 "nbformat_minor": 2
}
