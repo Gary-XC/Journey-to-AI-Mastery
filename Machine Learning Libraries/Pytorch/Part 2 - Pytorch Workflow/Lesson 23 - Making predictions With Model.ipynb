{
 "cells": [
  {
   "cell_type": "markdown",
   "metadata": {},
   "source": [
    "### Making Predictions Using torch.inference_mode()\n",
    "\n",
    "To check the models predictive power, we can see how well it predicts \"y_test\" based on \"x_test\"\n",
    "\n",
    "When data is parsed through our model its going to be run through the forward method."
   ]
  },
  {
   "cell_type": "code",
   "execution_count": 2,
   "metadata": {},
   "outputs": [],
   "source": [
    "import torch\n",
    "from torch import nn\n",
    "\n",
    "import matplotlib.pyplot as plt"
   ]
  },
  {
   "cell_type": "code",
   "execution_count": 3,
   "metadata": {},
   "outputs": [],
   "source": [
    "# Data points imported from lesson 19\n",
    "\n",
    "weight = 0.91\n",
    "bias = 0.3\n",
    "\n",
    "# Create\n",
    "start = 0\n",
    "end = 1\n",
    "step = 0.02\n",
    "# parameters for creating the tensor: X\n",
    "\n",
    "X = torch.arange(start, end, step).unsqueeze(dim = 1)\n",
    "# adds an extra dimension so theres an extra square bracket and each element of X, y are on different lines in the output for betting viewing\n",
    "y = weight * X + bias # is Linear Regression Formula\n",
    "\n",
    "\n",
    "trainSplit = int(0.8 * len(X)) # creating the train split by multiplying the upper bounds of the train split by the length of X to get the total number\n",
    "\n",
    "XTrain, yTrain = X[:trainSplit], y[:trainSplit] # indexing to get all samples up until the trainsplit\n",
    "XTest, yTest = X[trainSplit:], y[trainSplit:] # indexing to get all the samples from the trainsplit onwards, or what is left over after the trainsplit"
   ]
  },
  {
   "cell_type": "code",
   "execution_count": 4,
   "metadata": {},
   "outputs": [],
   "source": [
    "# code imported from lesson 19\n",
    "# using matplotlib to visualize the data points\n",
    "\n",
    "def plotPredictions(trainData = XTrain, \n",
    "                    trainLabels = yTrain, \n",
    "                    testData = XTest, \n",
    "                    testLabels = yTest, \n",
    "                    prediction = None):\n",
    "# Plots training data, test data and comparing predictions\n",
    "\n",
    "    plt.figure(figsize = (10, 7)) \n",
    "    \n",
    "    plt.scatter(trainData, trainLabels, c = \"b\", label = \"Training Data\")\n",
    "\n",
    "    plt.scatter(testData, testLabels, c = \"g\", label = \"Testing Data\")\n",
    "\n",
    "    if prediction is not None:\n",
    "        plt.scatter(testData, prediction, c = \"r\", label = \"Prediction\")\n",
    "\n",
    "    plt.legend(prop = {\"size\": 14})"
   ]
  },
  {
   "cell_type": "code",
   "execution_count": 5,
   "metadata": {},
   "outputs": [],
   "source": [
    "# model imported from lesson 20\n",
    "\n",
    "class LinearRegressionModel(nn.Module): # almost everything in Pytorch inherints from nn.Module, and can be considered the building blocks for pytorch\n",
    "    def __init__(self):\n",
    "        super().__init__()\n",
    "        \n",
    "        self.weights = nn.Parameter(torch.randn(1,\n",
    "                                                requires_grad=True, # grad = True is set by default, one of the main algorithms for predictions\n",
    "                                                dtype= torch.float))\n",
    "        \n",
    "        self.bias = nn.Parameter(torch.randn(1,\n",
    "                                             requires_grad= True,\n",
    "                                             dtype= torch.float))\n",
    "        \n",
    "    def forward(self, x: torch.Tensor) -> torch.Tensor: # -> means the return value, very similar to java, but for python its included outside of the method\n",
    "        # 'x' is the input data\n",
    "        return self.weights * x + self.bias # linear regression formula"
   ]
  },
  {
   "cell_type": "code",
   "execution_count": 12,
   "metadata": {},
   "outputs": [],
   "source": [
    "# code imported from lesson 22\n",
    "# creating a random seed\n",
    "torch.manual_seed(246)\n",
    "\n",
    "# creating an instance of the model which is a subclass of nn.Module\n",
    "model0 = LinearRegressionModel() # type: ignore"
   ]
  },
  {
   "cell_type": "code",
   "execution_count": 10,
   "metadata": {},
   "outputs": [
    {
     "data": {
      "text/plain": [
       "tensor([[0.8943],\n",
       "        [0.8802],\n",
       "        [0.8660],\n",
       "        [0.8519],\n",
       "        [0.8378],\n",
       "        [0.8237],\n",
       "        [0.8095],\n",
       "        [0.7954],\n",
       "        [0.7813],\n",
       "        [0.7672]])"
      ]
     },
     "execution_count": 10,
     "metadata": {},
     "output_type": "execute_result"
    }
   ],
   "source": [
    "with torch.inference_mode(): # or predictions \n",
    "    # inference mode is put on to build the habit for later on, as without inference mode there is a grad function\n",
    "    # inference mode turns off tracking for gradient and updating the parameters\n",
    "    # when using inference mode we're not training and thus we don't have to keep track of gradient\n",
    "    # allowing pytorch to keep track of less data --> helps later on with significantly more data points\n",
    "    yPreds = model0(XTest)\n",
    "\n",
    "# you can also do something similar with torch.no_grad(), however inference mode is still prefered\n",
    "\n",
    "yPreds\n",
    "\n",
    "# NotImplementedError occurs when forward function is not indented properly, and where it is not in line with the constructor"
   ]
  },
  {
   "cell_type": "code",
   "execution_count": 11,
   "metadata": {},
   "outputs": [
    {
     "data": {
      "text/plain": [
       "tensor([[1.0280],\n",
       "        [1.0462],\n",
       "        [1.0644],\n",
       "        [1.0826],\n",
       "        [1.1008],\n",
       "        [1.1190],\n",
       "        [1.1372],\n",
       "        [1.1554],\n",
       "        [1.1736],\n",
       "        [1.1918]])"
      ]
     },
     "execution_count": 11,
     "metadata": {},
     "output_type": "execute_result"
    }
   ],
   "source": [
    "yTest\n",
    "# the values from the model's predictions are quite far off"
   ]
  },
  {
   "cell_type": "code",
   "execution_count": 9,
   "metadata": {},
   "outputs": [
    {
     "data": {
      "image/png": "[encoded data removed]",
      "text/plain": [
       "<Figure size 1000x700 with 1 Axes>"
      ]
     },
     "metadata": {},
     "output_type": "display_data"
    }
   ],
   "source": [
    "plotPredictions(prediction= yPreds)\n",
    "\n",
    "# the difference in the values and graph compared to the video occurs from different random seeds"
   ]
  }
 ],
 "metadata": {
  "kernelspec": {
   "display_name": "mlenv",
   "language": "python",
   "name": "python3"
  },
  "language_info": {
   "codemirror_mode": {
    "name": "ipython",
    "version": 3
   },
   "file_extension": ".py",
   "mimetype": "text/x-python",
   "name": "python",
   "nbconvert_exporter": "python",
   "pygments_lexer": "ipython3",
   "version": "3.9.18"
  }
 },
 "nbformat": 4,
 "nbformat_minor": 2
}
