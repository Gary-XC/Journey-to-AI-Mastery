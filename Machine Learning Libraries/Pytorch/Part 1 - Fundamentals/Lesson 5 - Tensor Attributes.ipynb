{
 "cells": [
  {
   "cell_type": "markdown",
   "metadata": {},
   "source": [
    "### Tensor Attributes - Finding Information About Tensors\n",
    "Getting Information About Tensors:\n",
    "1. Shape - tensor.shape\n",
    "2. Datatype - tensor.dtype\n",
    "3. Device - tensor.device"
   ]
  },
  {
   "cell_type": "code",
   "execution_count": 1,
   "metadata": {},
   "outputs": [],
   "source": [
    "import torch"
   ]
  },
  {
   "cell_type": "code",
   "execution_count": 2,
   "metadata": {},
   "outputs": [
    {
     "data": {
      "text/plain": [
       "tensor([[0.8103, 0.6619, 0.1312, 0.6632],\n",
       "        [0.9384, 0.4400, 0.6928, 0.0722],\n",
       "        [0.6962, 0.3734, 0.0837, 0.2077]])"
      ]
     },
     "execution_count": 2,
     "metadata": {},
     "output_type": "execute_result"
    }
   ],
   "source": [
    "testTensor = torch.rand(3, 4)\n",
    "testTensor\n",
    "\n",
    "# creating a random datatype in order to see tensor.shape, .dtype, and .device to see how they work"
   ]
  },
  {
   "cell_type": "code",
   "execution_count": 4,
   "metadata": {},
   "outputs": [
    {
     "name": "stdout",
     "output_type": "stream",
     "text": [
      "tensor([[0.8103, 0.6619, 0.1312, 0.6632],\n",
      "        [0.9384, 0.4400, 0.6928, 0.0722],\n",
      "        [0.6962, 0.3734, 0.0837, 0.2077]])\n",
      "\n",
      "DataType of Tensor: torch.float32\n",
      "Shape of Tensor: torch.Size([3, 4])\n",
      "Device Tensor is stored on: cpu\n"
     ]
    }
   ],
   "source": [
    "print(testTensor)\n",
    "\n",
    "print()\n",
    "\n",
    "print(f\"DataType of Tensor: {testTensor.dtype}\")\n",
    "print(f\"Shape of Tensor: {testTensor.shape}\")\n",
    "print(f\"Device Tensor is stored on: {testTensor.device}\")\n",
    "\n",
    "# returns the attributes of the tensor, is useful for debugging and understanding the tensor, as well when you didn't create the tensor, and need more information"
   ]
  },
  {
   "cell_type": "code",
   "execution_count": null,
   "metadata": {},
   "outputs": [],
   "source": []
  }
 ],
 "metadata": {
  "kernelspec": {
   "display_name": "mlenv",
   "language": "python",
   "name": "python3"
  },
  "language_info": {
   "codemirror_mode": {
    "name": "ipython",
    "version": 3
   },
   "file_extension": ".py",
   "mimetype": "text/x-python",
   "name": "python",
   "nbconvert_exporter": "python",
   "pygments_lexer": "ipython3",
   "version": "3.9.18"
  }
 },
 "nbformat": 4,
 "nbformat_minor": 2
}
