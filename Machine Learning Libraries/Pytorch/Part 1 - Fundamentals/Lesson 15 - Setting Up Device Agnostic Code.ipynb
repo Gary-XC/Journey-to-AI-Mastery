{
 "cells": [
  {
   "cell_type": "markdown",
   "metadata": {},
   "source": [
    "### 3. Putting Tensors and Models on the GPU\n",
    "\n",
    "The reason that models and tensors are wanted on the GPU is because a GPU will result in faster computations. (Tensor Operations)"
   ]
  },
  {
   "cell_type": "code",
   "execution_count": 21,
   "metadata": {},
   "outputs": [
    {
     "name": "stdout",
     "output_type": "stream",
     "text": [
      "tensor([1, 2, 3]) cpu\n"
     ]
    }
   ],
   "source": [
    "import numpy\n",
    "import torch\n",
    "\n",
    "# Creating a tensor (defaulting on the CPU)\n",
    "\n",
    "tensor = torch.tensor([1, 2, 3], device = \"cpu\")\n",
    "\n",
    "print(tensor, tensor.device) # results in a tensor not on the GPU"
   ]
  },
  {
   "cell_type": "code",
   "execution_count": 8,
   "metadata": {},
   "outputs": [
    {
     "name": "stdout",
     "output_type": "stream",
     "text": [
      "tensor([1, 2, 3]) cpu\n"
     ]
    }
   ],
   "source": [
    "tensor = torch.tensor([1, 2, 3])\n",
    "\n",
    "print(tensor, tensor.device) # results in a tensor not on the GPU\n",
    "\n",
    "# even without specifying, by default the tensor device is set to the CPU"
   ]
  },
  {
   "cell_type": "code",
   "execution_count": 17,
   "metadata": {},
   "outputs": [
    {
     "data": {
      "text/plain": [
       "tensor([1, 2, 3], device='cuda:0')"
      ]
     },
     "execution_count": 17,
     "metadata": {},
     "output_type": "execute_result"
    }
   ],
   "source": [
    "# Moving tensor to GPU if available\n",
    "\n",
    "device = \"cuda\" if torch.cuda.is_available() else \"cpu\" # importing over code from lesson 14: setting up GPU/CUDA\n",
    "\n",
    "tensorOnGPU = tensor.to(device) \n",
    "# device moves to any target available, but since a GPU is available, the tensor is now moved to the GPU\n",
    "\n",
    "tensorOnGPU # now the device for the tensor is set to the GPU\n",
    "\n",
    "# there might be different tensors stored on different GPU's later on"
   ]
  },
  {
   "cell_type": "markdown",
   "metadata": {},
   "source": [
    "### 4. Moving tensors back to the CPU\n",
    "Numpy tensors are only stored on the CPU, so to use those tensors with pytorch they have to be converted back to the CPU to work."
   ]
  },
  {
   "cell_type": "code",
   "execution_count": 18,
   "metadata": {},
   "outputs": [
    {
     "ename": "TypeError",
     "evalue": "can't convert cuda:0 device type tensor to numpy. Use Tensor.cpu() to copy the tensor to host memory first.",
     "output_type": "error",
     "traceback": [
      "\u001b[1;31m---------------------------------------------------------------------------\u001b[0m",
      "\u001b[1;31mTypeError\u001b[0m                                 Traceback (most recent call last)",
      "Cell \u001b[1;32mIn[18], line 1\u001b[0m\n\u001b[1;32m----> 1\u001b[0m \u001b[43mtensorOnGPU\u001b[49m\u001b[38;5;241;43m.\u001b[39;49m\u001b[43mnumpy\u001b[49m\u001b[43m(\u001b[49m\u001b[43m)\u001b[49m\n",
      "\u001b[1;31mTypeError\u001b[0m: can't convert cuda:0 device type tensor to numpy. Use Tensor.cpu() to copy the tensor to host memory first."
     ]
    }
   ],
   "source": [
    "tensorOnGPU.numpy()"
   ]
  },
  {
   "cell_type": "code",
   "execution_count": 26,
   "metadata": {},
   "outputs": [
    {
     "name": "stdout",
     "output_type": "stream",
     "text": [
      "[1 2 3]\n"
     ]
    }
   ],
   "source": [
    "# to fix the GPU numpy issue, the tensor has to be first set back to the CPU\n",
    "\n",
    "tensorBackOnCPU = tensorOnGPU.cpu().numpy() # with the tensor now on the cpu calling the .numpy() function now works\n",
    "\n",
    "print(tensorBackOnCPU)"
   ]
  },
  {
   "cell_type": "code",
   "execution_count": 27,
   "metadata": {},
   "outputs": [
    {
     "data": {
      "text/plain": [
       "tensor([1, 2, 3], device='cuda:0')"
      ]
     },
     "execution_count": 27,
     "metadata": {},
     "output_type": "execute_result"
    }
   ],
   "source": [
    "tensorOnGPU\n",
    "# since tensorBackOnCPU has been reasigned, the original tensor remains unchanged"
   ]
  }
 ],
 "metadata": {
  "kernelspec": {
   "display_name": "mlenv",
   "language": "python",
   "name": "python3"
  },
  "language_info": {
   "codemirror_mode": {
    "name": "ipython",
    "version": 3
   },
   "file_extension": ".py",
   "mimetype": "text/x-python",
   "name": "python",
   "nbconvert_exporter": "python",
   "pygments_lexer": "ipython3",
   "version": "3.9.18"
  }
 },
 "nbformat": 4,
 "nbformat_minor": 2
}
