{
 "cells": [
  {
   "cell_type": "markdown",
   "metadata": {},
   "source": [
    "## Running Tensors and Pytorch Objects On GPUS To Make Faster Computations\n",
    "\n",
    "GPU's allow for faster computation on numbers tahnks to CUDA, NVIDIA, and Pytorch working behind the scenes\n",
    "\n",
    "*Since Pytorch is able to run on the CPU and GPU it is best practice to set up device agnostic code: running on GPU if available, otherwise defaulting to the CPU*"
   ]
  },
  {
   "cell_type": "markdown",
   "metadata": {},
   "source": [
    "### 1. Getting a GPU\n",
    "\n",
    "1. Easiest - Use Google Colab for free GPU's(also a option to upgrade) --> I find Google Colab to be quite slow compared to my pc and cant be run locally\n",
    "2. Use your own GPU - takes a bit of setup and need the investment of a GPU --> already have a GPU with the set up finished so I will continue with this option\n",
    "3. Using cloud computing - GCP, AWS, Azure, allows you to rent computers on the cloud and use them\n",
    "\n",
    "For 2,3 Pytorch and GPU drives takes a bit of time to set up. (this has already been completed on the local machine)\n",
    "\n",
    "### 2. Checking for GPU access with Pytorch"
   ]
  },
  {
   "cell_type": "code",
   "execution_count": 1,
   "metadata": {},
   "outputs": [
    {
     "data": {
      "text/plain": [
       "True"
      ]
     },
     "execution_count": 1,
     "metadata": {},
     "output_type": "execute_result"
    }
   ],
   "source": [
    "import torch\n",
    "\n",
    "# Checking for GPU access with pytorch\n",
    "\n",
    "torch.cuda.is_available()\n",
    "# have set up torch and cudu to use my GPU locally already"
   ]
  },
  {
   "cell_type": "code",
   "execution_count": 7,
   "metadata": {},
   "outputs": [
    {
     "data": {
      "text/plain": [
       "'cuda'"
      ]
     },
     "execution_count": 7,
     "metadata": {},
     "output_type": "execute_result"
    }
   ],
   "source": [
    "# Setting up Device Agnostic Code\n",
    "# Making it so that anytime a GPU is available the torch system uses CUDA\n",
    "# this is done by setting a global variable of device\n",
    "\n",
    "device = \"cuda\" if torch.cuda.is_available() else \"cpu\"\n",
    "device\n",
    "\n",
    "# uses cuda when there is a GPU, but when there isn't a GPU that the program can use, then the program won't throw an error and instead use the CPU\n",
    "# this is useful when sharing your code with others who might not have access to a GPU"
   ]
  },
  {
   "cell_type": "code",
   "execution_count": 2,
   "metadata": {},
   "outputs": [
    {
     "data": {
      "text/plain": [
       "1"
      ]
     },
     "execution_count": 2,
     "metadata": {},
     "output_type": "execute_result"
    }
   ],
   "source": [
    "torch.cuda.device_count()\n",
    "# if you have multiple GPU's you can choose which tasks to delegate to each GPU"
   ]
  },
  {
   "cell_type": "code",
   "execution_count": 3,
   "metadata": {},
   "outputs": [
    {
     "data": {
      "text/plain": [
       "'NVIDIA GeForce RTX 4060 Ti'"
      ]
     },
     "execution_count": 3,
     "metadata": {},
     "output_type": "execute_result"
    }
   ],
   "source": [
    "torch.cuda.get_device_name()"
   ]
  },
  {
   "cell_type": "code",
   "execution_count": null,
   "metadata": {},
   "outputs": [],
   "source": []
  }
 ],
 "metadata": {
  "kernelspec": {
   "display_name": "mlenv",
   "language": "python",
   "name": "python3"
  },
  "language_info": {
   "codemirror_mode": {
    "name": "ipython",
    "version": 3
   },
   "file_extension": ".py",
   "mimetype": "text/x-python",
   "name": "python",
   "nbconvert_exporter": "python",
   "pygments_lexer": "ipython3",
   "version": "3.9.18"
  }
 },
 "nbformat": 4,
 "nbformat_minor": 2
}
