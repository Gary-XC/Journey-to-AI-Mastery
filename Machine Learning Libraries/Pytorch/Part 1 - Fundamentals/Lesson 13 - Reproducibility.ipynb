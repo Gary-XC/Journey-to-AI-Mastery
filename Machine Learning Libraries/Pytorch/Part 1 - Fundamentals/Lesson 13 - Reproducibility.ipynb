{
 "cells": [
  {
   "cell_type": "markdown",
   "metadata": {},
   "source": [
    "## Reproducibility\n",
    "\n",
    "Trying the take the random out of random (trying to reproduce the random tensors created for practices in the other lessons)\n",
    "\n",
    "How a nerual network learns: Starts with random numbers -> tensor operations -> update random numbers to try to make the numbers better representations -> again -> again -> ...\n",
    "\n",
    "Trying to keep the randomness out: Say that you want to perform an experiment on a tensor, then you would need the same tensor for each new experiment, thus meaning that you woud need the reproduce the same tensor each and every time\n",
    "\n",
    "In order to reduce the randomness in nerual networks and Pytorch you need the concept of a **random seed**, the seeds flavours the randomness, since computers are not able to truly generate random numbers, so they rely on algorithms to produce the random values\n",
    "\n",
    "*You can reproduce tensors by using the torch.manual_seed, giving random values that are reproducible*"
   ]
  },
  {
   "cell_type": "code",
   "execution_count": 1,
   "metadata": {},
   "outputs": [],
   "source": [
    "import torch"
   ]
  },
  {
   "cell_type": "code",
   "execution_count": 2,
   "metadata": {},
   "outputs": [
    {
     "data": {
      "text/plain": [
       "tensor([[0.2361, 0.9039, 0.6448],\n",
       "        [0.9498, 0.7809, 0.7689],\n",
       "        [0.5577, 0.5174, 0.7577]])"
      ]
     },
     "execution_count": 2,
     "metadata": {},
     "output_type": "execute_result"
    }
   ],
   "source": [
    "torch.rand(3, 3)"
   ]
  },
  {
   "cell_type": "code",
   "execution_count": 3,
   "metadata": {},
   "outputs": [
    {
     "data": {
      "text/plain": [
       "tensor([[0.0173, 0.2108, 0.6293],\n",
       "        [0.3968, 0.5266, 0.2710],\n",
       "        [0.8094, 0.9916, 0.6165]])"
      ]
     },
     "execution_count": 3,
     "metadata": {},
     "output_type": "execute_result"
    }
   ],
   "source": [
    "torch.rand(3, 3)\n",
    "\n",
    "# here as it is shown that even if you call two tensors with the same parmeters they will differ\n",
    "# but for sharing purposes involving specific numbers then when the recipient receives the file and runs it then they would produce different numbers"
   ]
  },
  {
   "cell_type": "code",
   "execution_count": 4,
   "metadata": {},
   "outputs": [
    {
     "name": "stdout",
     "output_type": "stream",
     "text": [
      "tensor([[0.6163, 0.3437, 0.8826, 0.7922],\n",
      "        [0.8882, 0.3236, 0.7735, 0.5317],\n",
      "        [0.1059, 0.5687, 0.1686, 0.2991]])\n",
      "tensor([[0.3773, 0.0064, 0.9183, 0.7919],\n",
      "        [0.1232, 0.3726, 0.7814, 0.0359],\n",
      "        [0.1721, 0.9547, 0.2627, 0.8113]])\n",
      "tensor([[False, False, False, False],\n",
      "        [False, False, False, False],\n",
      "        [False, False, False, False]])\n"
     ]
    }
   ],
   "source": [
    "randTensorA = torch.rand(3, 4)\n",
    "randTensorB = torch.rand(3, 4)\n",
    "\n",
    "print(randTensorA)\n",
    "print(randTensorB)\n",
    "print(randTensorA == randTensorB)\n",
    "\n",
    "# there are going to be random numbers, and there is a chance for the two tensors to have a same number"
   ]
  },
  {
   "cell_type": "code",
   "execution_count": 5,
   "metadata": {},
   "outputs": [
    {
     "name": "stdout",
     "output_type": "stream",
     "text": [
      "tensor([[0.7902, 0.9813, 0.5914, 0.3650],\n",
      "        [0.7470, 0.6896, 0.8815, 0.7708],\n",
      "        [0.7810, 0.2139, 0.1007, 0.5230]])\n",
      "tensor([[0.3128, 0.8854, 0.6202, 0.9351],\n",
      "        [0.4072, 0.3055, 0.3805, 0.4427],\n",
      "        [0.0846, 0.1081, 0.6236, 0.3008]])\n",
      "tensor([[False, False, False, False],\n",
      "        [False, False, False, False],\n",
      "        [False, False, False, False]])\n"
     ]
    }
   ],
   "source": [
    "# making a random and reproducible tensor\n",
    "\n",
    "randomSeed = 246\n",
    "\n",
    "torch.manual_seed(randomSeed) # setting the random seed of the random tensors (or flavour the randomness with a seed)\n",
    "\n",
    "randTensorC = torch.rand(3, 4)\n",
    "randTensorD = torch.rand(3, 4)\n",
    "\n",
    "print(randTensorC)\n",
    "print(randTensorD)\n",
    "print(randTensorC == randTensorD)"
   ]
  },
  {
   "cell_type": "code",
   "execution_count": 7,
   "metadata": {},
   "outputs": [
    {
     "name": "stdout",
     "output_type": "stream",
     "text": [
      "tensor([[0.7902, 0.9813, 0.5914, 0.3650],\n",
      "        [0.7470, 0.6896, 0.8815, 0.7708],\n",
      "        [0.7810, 0.2139, 0.1007, 0.5230]])\n",
      "tensor([[0.7902, 0.9813, 0.5914, 0.3650],\n",
      "        [0.7470, 0.6896, 0.8815, 0.7708],\n",
      "        [0.7810, 0.2139, 0.1007, 0.5230]])\n",
      "tensor([[True, True, True, True],\n",
      "        [True, True, True, True],\n",
      "        [True, True, True, True]])\n"
     ]
    }
   ],
   "source": [
    "randomSeed = 246\n",
    "\n",
    "torch.manual_seed(randomSeed) \n",
    "randTensorC = torch.rand(3, 4)\n",
    "\n",
    "torch.manual_seed(randomSeed) \n",
    "randTensorD = torch.rand(3, 4) # set the randomness after each random method is called\n",
    "\n",
    "# manual seed only works after each method is called, and needs to be called again for each instance that torch.rand is called\n",
    "\n",
    "print(randTensorC)\n",
    "print(randTensorD)\n",
    "print(randTensorC == randTensorD)"
   ]
  },
  {
   "cell_type": "markdown",
   "metadata": {},
   "source": [
    "Extra Resources: *https://pytorch.org/docs/stable/notes/randomness.html*"
   ]
  }
 ],
 "metadata": {
  "kernelspec": {
   "display_name": "mlenv",
   "language": "python",
   "name": "python3"
  },
  "language_info": {
   "codemirror_mode": {
    "name": "ipython",
    "version": 3
   },
   "file_extension": ".py",
   "mimetype": "text/x-python",
   "name": "python",
   "nbconvert_exporter": "python",
   "pygments_lexer": "ipython3",
   "version": "3.9.18"
  }
 },
 "nbformat": 4,
 "nbformat_minor": 2
}
