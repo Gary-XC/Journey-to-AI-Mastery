{
 "cells": [
  {
   "cell_type": "markdown",
   "metadata": {},
   "source": [
    "## Pytorch Tensors and Numpy\n",
    "\n",
    "Numpy is a popular scientific Python numerical computing library. And because of that Numpy is so popular Pytorch is able to interact with Numpy\n",
    "Example:\n",
    "* Data starts out in Numpy and the data is wanted to be used in Pytorch data for deep learning purposes \n",
    "* torch.from_numpy(ndarray) \n",
    "* There is also a function that converts a pytorch tensor to a numpy tensor --> 'torch.Tensor.numpy()'\n",
    "- Numpy Default Data Type: float64\n",
    "- Pytorch Default Data Type: float32"
   ]
  },
  {
   "cell_type": "code",
   "execution_count": 45,
   "metadata": {},
   "outputs": [],
   "source": [
    "import torch\n",
    "import numpy as np"
   ]
  },
  {
   "cell_type": "code",
   "execution_count": 46,
   "metadata": {},
   "outputs": [
    {
     "data": {
      "text/plain": [
       "(array([1., 2., 3., 4., 5., 6., 7.]),\n",
       " tensor([1., 2., 3., 4., 5., 6., 7.], dtype=torch.float64),\n",
       " dtype('float64'))"
      ]
     },
     "execution_count": 46,
     "metadata": {},
     "output_type": "execute_result"
    }
   ],
   "source": [
    "# Numpy array to tensor\n",
    "\n",
    "array = np.arange(1.0, 8.0)\n",
    "\n",
    "tensor = torch.from_numpy(array) # creating the tensor in Pytorch by using the array created using Numpy\n",
    "\n",
    "array, tensor, array.dtype"
   ]
  },
  {
   "cell_type": "code",
   "execution_count": 47,
   "metadata": {},
   "outputs": [
    {
     "data": {
      "text/plain": [
       "torch.float32"
      ]
     },
     "execution_count": 47,
     "metadata": {},
     "output_type": "execute_result"
    }
   ],
   "source": [
    "torch.arange(1.0, 8.0).dtype\n",
    "\n",
    "# Numpy default data type is f64, while pytorch default data type is f32, so creating a tensor in pytorch using numpy will reflect the default data type from Numpy(f64)"
   ]
  },
  {
   "cell_type": "code",
   "execution_count": 48,
   "metadata": {},
   "outputs": [
    {
     "data": {
      "text/plain": [
       "tensor([1., 2., 3., 4., 5., 6., 7.])"
      ]
     },
     "execution_count": 48,
     "metadata": {},
     "output_type": "execute_result"
    }
   ],
   "source": [
    "# in order to change the data type to f32 we have to specify the type when creating the pytorch tensor using the type function\n",
    "\n",
    "tensor2 = torch.from_numpy(array).type(torch.float32)\n",
    "tensor2"
   ]
  },
  {
   "cell_type": "code",
   "execution_count": 49,
   "metadata": {},
   "outputs": [
    {
     "data": {
      "text/plain": [
       "(array([2., 3., 4., 5., 6., 7., 8.]),\n",
       " tensor([1., 2., 3., 4., 5., 6., 7.], dtype=torch.float64))"
      ]
     },
     "execution_count": 49,
     "metadata": {},
     "output_type": "execute_result"
    }
   ],
   "source": [
    "# changing values of the array --> what happens to the pytorch tensor?\n",
    "\n",
    "array = array + 1\n",
    "\n",
    "array, tensor\n",
    "# here it is shown that changing the original array will not change the tensor as the memory of the tensor is stored in another place\n",
    "# meaning that they don't share any memory"
   ]
  },
  {
   "cell_type": "code",
   "execution_count": 50,
   "metadata": {},
   "outputs": [
    {
     "data": {
      "text/plain": [
       "(tensor([1., 1., 1., 1., 1., 1., 1.]),\n",
       " array([1., 1., 1., 1., 1., 1., 1.], dtype=float32))"
      ]
     },
     "execution_count": 50,
     "metadata": {},
     "output_type": "execute_result"
    }
   ],
   "source": [
    "# Going from Pytorch tensor to Numpy array \n",
    "\n",
    "tensor = torch.ones(7)\n",
    "\n",
    "numpyTensor = tensor.numpy()\n",
    "\n",
    "tensor, numpyTensor"
   ]
  },
  {
   "cell_type": "code",
   "execution_count": 51,
   "metadata": {},
   "outputs": [
    {
     "data": {
      "text/plain": [
       "dtype('float32')"
      ]
     },
     "execution_count": 51,
     "metadata": {},
     "output_type": "execute_result"
    }
   ],
   "source": [
    "numpyTensor.dtype\n",
    "\n",
    "# the array reflects the data type from the copied over tensor"
   ]
  },
  {
   "cell_type": "code",
   "execution_count": 52,
   "metadata": {},
   "outputs": [
    {
     "data": {
      "text/plain": [
       "(tensor([2., 2., 2., 2., 2., 2., 2.]),\n",
       " array([1., 1., 1., 1., 1., 1., 1.], dtype=float32))"
      ]
     },
     "execution_count": 52,
     "metadata": {},
     "output_type": "execute_result"
    }
   ],
   "source": [
    "# What happens to the numpy array when the pytorch tensor has been changed?\n",
    "\n",
    "tensor = tensor + 1\n",
    "\n",
    "tensor, numpyTensor\n",
    "\n",
    "# here it is shown that changing the original tensor will not change the array as the memory of the array is stored in another place\n",
    "# meaning that they don't share any memory"
   ]
  },
  {
   "cell_type": "code",
   "execution_count": null,
   "metadata": {},
   "outputs": [],
   "source": [
    "# further practice: https://pytorch.org/tutorials/beginner/examples_tensor/polynomial_numpy.html"
   ]
  }
 ],
 "metadata": {
  "kernelspec": {
   "display_name": "mlenv",
   "language": "python",
   "name": "python3"
  },
  "language_info": {
   "codemirror_mode": {
    "name": "ipython",
    "version": 3
   },
   "file_extension": ".py",
   "mimetype": "text/x-python",
   "name": "python",
   "nbconvert_exporter": "python",
   "pygments_lexer": "ipython3",
   "version": "3.9.18"
  }
 },
 "nbformat": 4,
 "nbformat_minor": 2
}
