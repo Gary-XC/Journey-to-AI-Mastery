{
 "cells": [
  {
   "cell_type": "markdown",
   "metadata": {},
   "source": [
    "### Squeezing, Unsqueezing, and Permuting\n",
    "\n",
    "* Squeeze - removes all of the `1` dimensions (single dimensions) from a tensor\n",
    "* Unsqueeze - adds a `1` dimension to a target tensor\n",
    "* Permute - Returns a view of the tensor with the dimensions swapped(permuted) in a certain way\n",
    "\n",
    "\n",
    "https://youtu.be/Z_ikDlimN6A?t=11666 "
   ]
  },
  {
   "cell_type": "code",
   "execution_count": 2,
   "metadata": {},
   "outputs": [
    {
     "data": {
      "text/plain": [
       "(tensor([[1., 2., 3., 4., 5., 6., 7., 8., 9.]]), torch.Size([1, 9]))"
      ]
     },
     "execution_count": 2,
     "metadata": {},
     "output_type": "execute_result"
    }
   ],
   "source": [
    "import torch\n",
    "\n",
    "# 1. creating a tensor\n",
    "x = torch.arange(1., 10.)\n",
    "\n",
    "# copying over code from lesson 9 to match up with the tutorial \n",
    "xReshape = x.reshape(1, 9)\n",
    "\n",
    "xReshape, xReshape.shape"
   ]
  },
  {
   "cell_type": "code",
   "execution_count": 3,
   "metadata": {},
   "outputs": [
    {
     "data": {
      "text/plain": [
       "tensor([1., 2., 3., 4., 5., 6., 7., 8., 9.])"
      ]
     },
     "execution_count": 3,
     "metadata": {},
     "output_type": "execute_result"
    }
   ],
   "source": [
    "# looking at x with squeeze applied looks like\n",
    "\n",
    "xReshape.squeeze()\n",
    "# removes all single dimenstions from a target tensor --> shown here as the tensor changes from 2 square brackets to only 1 square bracket"
   ]
  },
  {
   "cell_type": "code",
   "execution_count": 4,
   "metadata": {},
   "outputs": [
    {
     "data": {
      "text/plain": [
       "torch.Size([9])"
      ]
     },
     "execution_count": 4,
     "metadata": {},
     "output_type": "execute_result"
    }
   ],
   "source": [
    "xReshape.squeeze().shape\n",
    "\n",
    "# we can see here the the tensor has also been changed to where there is only a single tensor of size nine\n",
    "# if there was a tensor of [1,1,9], then .squeeze would remove all of the 1 tensors, ending up as 9 only"
   ]
  },
  {
   "cell_type": "code",
   "execution_count": 5,
   "metadata": {},
   "outputs": [
    {
     "name": "stdout",
     "output_type": "stream",
     "text": [
      "Previous Tensor: tensor([[1., 2., 3., 4., 5., 6., 7., 8., 9.]])\n",
      "Previous Tensor Shape: torch.Size([1, 9])\n",
      "\n",
      "New Tensor: tensor([1., 2., 3., 4., 5., 6., 7., 8., 9.])\n",
      "New Tensor Shape: torch.Size([9])\n"
     ]
    }
   ],
   "source": [
    "# visulization of .squeeze()\n",
    "\n",
    "print(f\"Previous Tensor: {xReshape}\")\n",
    "print(f\"Previous Tensor Shape: {xReshape.shape}\")\n",
    "\n",
    "print()\n",
    "\n",
    "print(f\"New Tensor: {xReshape.squeeze()}\")\n",
    "print(f\"New Tensor Shape: {xReshape.squeeze().shape}\")\n",
    "\n",
    "# as we can the the previous tensor has 2 square brackets, and the new tensor that has been squeezed only has 1 now, as well the shape of the squeezed tensor has also \n",
    "# changed"
   ]
  },
  {
   "cell_type": "code",
   "execution_count": 12,
   "metadata": {},
   "outputs": [
    {
     "data": {
      "text/plain": [
       "tensor([[1., 2., 3., 4., 5., 6., 7., 8., 9.]])"
      ]
     },
     "execution_count": 12,
     "metadata": {},
     "output_type": "execute_result"
    }
   ],
   "source": [
    "# Now testing out .unsqueeze()\n",
    "# adds a single dimension to a targeted vector at a specific dimension (dim)\n",
    "\n",
    "xSqueeze = xReshape.squeeze() # creating a new variable to test out how unsqueeze works on a tensor that has been squeezed\n",
    "\n",
    "xSqueeze.unsqueeze(dim = 0)"
   ]
  },
  {
   "cell_type": "code",
   "execution_count": 11,
   "metadata": {},
   "outputs": [
    {
     "name": "stdout",
     "output_type": "stream",
     "text": [
      "Previous Tensor: tensor([1., 2., 3., 4., 5., 6., 7., 8., 9.])\n",
      "Previous Tensor Shape: torch.Size([9])\n",
      "\n",
      "New Tensor After Unsqueezing: tensor([[1., 2., 3., 4., 5., 6., 7., 8., 9.]])\n",
      "New Tensor Shape After Unsqueezing: torch.Size([1, 9])\n"
     ]
    }
   ],
   "source": [
    "# visulization of .unsqueeze(dim)\n",
    "\n",
    "print(f\"Previous Tensor: {xSqueeze}\")\n",
    "print(f\"Previous Tensor Shape: {xSqueeze.shape}\")\n",
    "\n",
    "print()\n",
    "\n",
    "print(f\"New Tensor After Unsqueezing: {xSqueeze.unsqueeze(dim=0)}\")\n",
    "print(f\"New Tensor Shape After Unsqueezing: {xSqueeze.unsqueeze(dim=0).shape}\")"
   ]
  },
  {
   "cell_type": "code",
   "execution_count": null,
   "metadata": {},
   "outputs": [],
   "source": []
  }
 ],
 "metadata": {
  "kernelspec": {
   "display_name": "mlenv",
   "language": "python",
   "name": "python3"
  },
  "language_info": {
   "codemirror_mode": {
    "name": "ipython",
    "version": 3
   },
   "file_extension": ".py",
   "mimetype": "text/x-python",
   "name": "python",
   "nbconvert_exporter": "python",
   "pygments_lexer": "ipython3",
   "version": "3.9.18"
  }
 },
 "nbformat": 4,
 "nbformat_minor": 2
}
