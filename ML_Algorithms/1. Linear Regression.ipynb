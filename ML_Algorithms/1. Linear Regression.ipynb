{
 "cells": [
  {
   "cell_type": "markdown",
   "metadata": {},
   "source": [
    "### What is Linear Regression\n",
    "* Is a supervised learning method\n",
    "* Where \n",
    "\n",
    "- https://www.freecodecamp.org/news/build-a-linear-regression-model-with-an-example/#what-is-linear-regression\n",
    "- https://www.youtube.com/watch?v=QlbyGPVaRSE\n"
   ]
  },
  {
   "cell_type": "code",
   "execution_count": null,
   "metadata": {},
   "outputs": [],
   "source": []
  }
 ],
 "metadata": {
  "language_info": {
   "name": "python"
  }
 },
 "nbformat": 4,
 "nbformat_minor": 2
}
