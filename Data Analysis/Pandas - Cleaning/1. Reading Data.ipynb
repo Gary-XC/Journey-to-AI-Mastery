{
 "cells": [
  {
   "cell_type": "markdown",
   "metadata": {},
   "source": [
    "### 1. Intro To Pandas\n",
    "\n",
    "Importing Pandas"
   ]
  },
  {
   "cell_type": "code",
   "execution_count": 2,
   "metadata": {},
   "outputs": [],
   "source": [
    "import pandas as pd"
   ]
  },
  {
   "cell_type": "markdown",
   "metadata": {},
   "source": [
    "Reading in Data From CSV Files"
   ]
  },
  {
   "cell_type": "code",
   "execution_count": 3,
   "metadata": {},
   "outputs": [
    {
     "data": {
      "application/vnd.microsoft.datawrangler.viewer.v0+json": {
       "columns": [
        {
         "name": "index",
         "rawType": "int64",
         "type": "integer"
        },
        {
         "name": "0",
         "rawType": "object",
         "type": "string"
        },
        {
         "name": "1",
         "rawType": "object",
         "type": "string"
        },
        {
         "name": "2",
         "rawType": "object",
         "type": "unknown"
        }
       ],
       "conversionMethod": "pd.DataFrame",
       "ref": "e8393079-8ed6-4998-b781-e7c01b3b8b64",
       "rows": [
        [
         "0",
         "name",
         "Acronym ",
         "Region"
        ],
        [
         "1",
         "Afghanistan",
         "AFG",
         "Asia"
        ],
        [
         "2",
         "Åland Islands",
         "ALA",
         "Europe"
        ],
        [
         "3",
         "Albania",
         "ALB",
         "Europe"
        ],
        [
         "4",
         "Algeria",
         "DZA",
         "Africa"
        ],
        [
         "5",
         "American Samoa",
         "ASM",
         "Oceania"
        ],
        [
         "6",
         "Andorra",
         "AND",
         "Europe"
        ],
        [
         "7",
         "Angola",
         "AGO",
         "Africa"
        ],
        [
         "8",
         "Anguilla",
         "AIA",
         "Americas"
        ],
        [
         "9",
         "Antarctica",
         "ATA",
         "Antarctica"
        ],
        [
         "10",
         "Antigua and Barbuda",
         "ATG",
         "Americas"
        ],
        [
         "11",
         "Argentina",
         "ARG",
         "Americas"
        ],
        [
         "12",
         "Armenia",
         "ARM",
         "Asia"
        ],
        [
         "13",
         "Aruba",
         "ABW",
         "Americas"
        ],
        [
         "14",
         "Australia",
         "AUS",
         "Oceania"
        ],
        [
         "15",
         "Austria",
         "AUT",
         "Europe"
        ],
        [
         "16",
         "Azerbaijan",
         "AZE",
         "Asia"
        ],
        [
         "17",
         "Bahamas",
         "BHS",
         "Americas"
        ],
        [
         "18",
         "Bahrain",
         "BHR",
         "Asia"
        ],
        [
         "19",
         "Bangladesh",
         "BGD",
         "Asia"
        ],
        [
         "20",
         "Barbados",
         "BRB",
         "Americas"
        ],
        [
         "21",
         "Belarus",
         "BLR",
         "Europe"
        ],
        [
         "22",
         "Belgium",
         "BEL",
         "Europe"
        ],
        [
         "23",
         "Belize",
         "BLZ",
         "Americas"
        ],
        [
         "24",
         "Benin",
         "BEN",
         "Africa"
        ],
        [
         "25",
         "Bermuda",
         "BMU",
         "Americas"
        ],
        [
         "26",
         "Bhutan",
         "BTN",
         "Asia"
        ],
        [
         "27",
         "Bolivia, Plurinational State of",
         "BOL",
         "Americas"
        ],
        [
         "28",
         "Bonaire, Sint Eustatius and Saba",
         "BES",
         "Americas"
        ],
        [
         "29",
         "Bosnia and Herzegovina",
         "BIH",
         "Europe"
        ],
        [
         "30",
         "Botswana",
         "BWA",
         "Africa"
        ],
        [
         "31",
         "Bouvet Island",
         "BVT",
         "Americas"
        ],
        [
         "32",
         "Brazil",
         "BRA",
         "Americas"
        ],
        [
         "33",
         "British Indian Ocean Territory",
         "IOT",
         "Africa"
        ],
        [
         "34",
         "Brunei Darussalam",
         "BRN",
         "Asia"
        ],
        [
         "35",
         "Bulgaria",
         "BGR",
         "Europe"
        ],
        [
         "36",
         "Burkina Faso",
         "BFA",
         "Africa"
        ],
        [
         "37",
         "Burundi",
         "BDI",
         "Africa"
        ],
        [
         "38",
         "Cabo Verde",
         "CPV",
         "Africa"
        ],
        [
         "39",
         "Cambodia",
         "KHM",
         "Asia"
        ],
        [
         "40",
         "Cameroon",
         "CMR",
         "Africa"
        ],
        [
         "41",
         "Canada",
         "CAN",
         "Americas"
        ],
        [
         "42",
         "Cayman Islands",
         "CYM",
         "Americas"
        ],
        [
         "43",
         "Central African Republic",
         "CAF",
         "Africa"
        ],
        [
         "44",
         "Chad",
         "TCD",
         "Africa"
        ],
        [
         "45",
         "Chile",
         "CHL",
         "Americas"
        ],
        [
         "46",
         "China",
         "CHN",
         "Asia"
        ],
        [
         "47",
         "Christmas Island",
         "CXR",
         "Oceania"
        ],
        [
         "48",
         "Cocos (Keeling) Islands",
         "CCK",
         "Oceania"
        ],
        [
         "49",
         "Colombia",
         "COL",
         "Americas"
        ]
       ],
       "shape": {
        "columns": 3,
        "rows": 250
       }
      },
      "text/html": [
       "<div>\n",
       "<style scoped>\n",
       "    .dataframe tbody tr th:only-of-type {\n",
       "        vertical-align: middle;\n",
       "    }\n",
       "\n",
       "    .dataframe tbody tr th {\n",
       "        vertical-align: top;\n",
       "    }\n",
       "\n",
       "    .dataframe thead th {\n",
       "        text-align: right;\n",
       "    }\n",
       "</style>\n",
       "<table border=\"1\" class=\"dataframe\">\n",
       "  <thead>\n",
       "    <tr style=\"text-align: right;\">\n",
       "      <th></th>\n",
       "      <th>0</th>\n",
       "      <th>1</th>\n",
       "      <th>2</th>\n",
       "    </tr>\n",
       "  </thead>\n",
       "  <tbody>\n",
       "    <tr>\n",
       "      <th>0</th>\n",
       "      <td>name</td>\n",
       "      <td>Acronym</td>\n",
       "      <td>Region</td>\n",
       "    </tr>\n",
       "    <tr>\n",
       "      <th>1</th>\n",
       "      <td>Afghanistan</td>\n",
       "      <td>AFG</td>\n",
       "      <td>Asia</td>\n",
       "    </tr>\n",
       "    <tr>\n",
       "      <th>2</th>\n",
       "      <td>Åland Islands</td>\n",
       "      <td>ALA</td>\n",
       "      <td>Europe</td>\n",
       "    </tr>\n",
       "    <tr>\n",
       "      <th>3</th>\n",
       "      <td>Albania</td>\n",
       "      <td>ALB</td>\n",
       "      <td>Europe</td>\n",
       "    </tr>\n",
       "    <tr>\n",
       "      <th>4</th>\n",
       "      <td>Algeria</td>\n",
       "      <td>DZA</td>\n",
       "      <td>Africa</td>\n",
       "    </tr>\n",
       "    <tr>\n",
       "      <th>...</th>\n",
       "      <td>...</td>\n",
       "      <td>...</td>\n",
       "      <td>...</td>\n",
       "    </tr>\n",
       "    <tr>\n",
       "      <th>245</th>\n",
       "      <td>Wallis and Futuna</td>\n",
       "      <td>WLF</td>\n",
       "      <td>Oceania</td>\n",
       "    </tr>\n",
       "    <tr>\n",
       "      <th>246</th>\n",
       "      <td>Western Sahara</td>\n",
       "      <td>ESH</td>\n",
       "      <td>Africa</td>\n",
       "    </tr>\n",
       "    <tr>\n",
       "      <th>247</th>\n",
       "      <td>Yemen</td>\n",
       "      <td>YEM</td>\n",
       "      <td>Asia</td>\n",
       "    </tr>\n",
       "    <tr>\n",
       "      <th>248</th>\n",
       "      <td>Zambia</td>\n",
       "      <td>ZMB</td>\n",
       "      <td>Africa</td>\n",
       "    </tr>\n",
       "    <tr>\n",
       "      <th>249</th>\n",
       "      <td>Zimbabwe</td>\n",
       "      <td>ZWE</td>\n",
       "      <td>Africa</td>\n",
       "    </tr>\n",
       "  </tbody>\n",
       "</table>\n",
       "<p>250 rows × 3 columns</p>\n",
       "</div>"
      ],
      "text/plain": [
       "                     0         1        2\n",
       "0                 name  Acronym    Region\n",
       "1          Afghanistan       AFG     Asia\n",
       "2        Åland Islands       ALA   Europe\n",
       "3              Albania       ALB   Europe\n",
       "4              Algeria       DZA   Africa\n",
       "..                 ...       ...      ...\n",
       "245  Wallis and Futuna       WLF  Oceania\n",
       "246     Western Sahara       ESH   Africa\n",
       "247              Yemen       YEM     Asia\n",
       "248             Zambia       ZMB   Africa\n",
       "249           Zimbabwe       ZWE   Africa\n",
       "\n",
       "[250 rows x 3 columns]"
      ]
     },
     "execution_count": 3,
     "metadata": {},
     "output_type": "execute_result"
    }
   ],
   "source": [
    "data = pd.read_csv(\"Data/Countries List.csv\", header= None)\n",
    "data"
   ]
  },
  {
   "cell_type": "code",
   "execution_count": null,
   "metadata": {},
   "outputs": [],
   "source": []
  }
 ],
 "metadata": {
  "kernelspec": {
   "display_name": "dataAnalysis",
   "language": "python",
   "name": "python3"
  },
  "language_info": {
   "codemirror_mode": {
    "name": "ipython",
    "version": 3
   },
   "file_extension": ".py",
   "mimetype": "text/x-python",
   "name": "python",
   "nbconvert_exporter": "python",
   "pygments_lexer": "ipython3",
   "version": "3.9.20"
  }
 },
 "nbformat": 4,
 "nbformat_minor": 2
}
