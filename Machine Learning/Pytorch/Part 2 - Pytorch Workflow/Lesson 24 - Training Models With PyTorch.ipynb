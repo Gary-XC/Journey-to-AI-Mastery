{
 "cells": [
  {
   "cell_type": "markdown",
   "metadata": {},
   "source": [
    "## 3. Training The Model\n",
    "\n",
    "The whole point of training is for a model to move from some unknown parameters (that may be random) to some known parameters\n",
    "\n",
    "Or a poor representation of the data to a better representation of the data\n",
    "\n",
    "A way to measure how poor or wrong your models are, then you can use a loss function --> there are multiple built into pytorch (also can be called cost or criterion functions)\n",
    "\n",
    "**Loss Function:** A function that measures or compares how wrong your model's prediction are to the ideal outputs, the lower the value the better or more accurate the model is.\n",
    "**Optimizer:** Takes into account the loss of a model and adjusts the models parameters (weights and bias currently) to improve the loss function\n",
    "\n",
    "Specifically For Pytorch:\n",
    "1. A training loop\n",
    "2. A testing loop\n",
    "\n",
    "\n",
    "* How to measure the distance between the green and red dots"
   ]
  }
 ],
 "metadata": {
  "kernelspec": {
   "display_name": "mlenv",
   "language": "python",
   "name": "python3"
  },
  "language_info": {
   "codemirror_mode": {
    "name": "ipython",
    "version": 3
   },
   "file_extension": ".py",
   "mimetype": "text/x-python",
   "name": "python",
   "nbconvert_exporter": "python",
   "pygments_lexer": "ipython3",
   "version": "3.9.18"
  }
 },
 "nbformat": 4,
 "nbformat_minor": 2
}
