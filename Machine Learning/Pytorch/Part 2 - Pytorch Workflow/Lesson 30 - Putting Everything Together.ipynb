{
 "cells": [
  {
   "cell_type": "markdown",
   "metadata": {},
   "source": [
    "## Putting It All Together\n",
    "\n",
    "All the steps in one place"
   ]
  },
  {
   "cell_type": "code",
   "execution_count": 154,
   "metadata": {},
   "outputs": [],
   "source": [
    "import torch\n",
    "from torch import nn\n",
    "\n",
    "import matplotlib.pyplot as plt"
   ]
  },
  {
   "cell_type": "code",
   "execution_count": 155,
   "metadata": {},
   "outputs": [
    {
     "data": {
      "text/plain": [
       "'2.1.1+cu118'"
      ]
     },
     "execution_count": 155,
     "metadata": {},
     "output_type": "execute_result"
    }
   ],
   "source": [
    "# Checking Pytorch Version\n",
    "\n",
    "torch.__version__"
   ]
  },
  {
   "cell_type": "markdown",
   "metadata": {},
   "source": [
    "#### Creating Device Agonistic Code\n",
    "\n",
    "Using a GPU when available and a CPU otherwise"
   ]
  },
  {
   "cell_type": "code",
   "execution_count": 156,
   "metadata": {},
   "outputs": [
    {
     "name": "stdout",
     "output_type": "stream",
     "text": [
      "Using Device: cuda\n"
     ]
    }
   ],
   "source": [
    "# Agnostic Code Setup\n",
    "\n",
    "device = \"cuda\" if torch.cuda.is_available() else \"cpu\"\n",
    "\n",
    "print(f\"Using Device: {device}\")"
   ]
  },
  {
   "cell_type": "markdown",
   "metadata": {},
   "source": [
    "#### Creating Data:\n",
    "* Creating Test and Training Data"
   ]
  },
  {
   "cell_type": "code",
   "execution_count": 157,
   "metadata": {},
   "outputs": [
    {
     "data": {
      "text/plain": [
       "(tensor([[0.0000],\n",
       "         [0.0100],\n",
       "         [0.0200],\n",
       "         [0.0300],\n",
       "         [0.0400],\n",
       "         [0.0500],\n",
       "         [0.0600],\n",
       "         [0.0700],\n",
       "         [0.0800],\n",
       "         [0.0900]]),\n",
       " tensor([[0.7000],\n",
       "         [0.7050],\n",
       "         [0.7100],\n",
       "         [0.7150],\n",
       "         [0.7200],\n",
       "         [0.7250],\n",
       "         [0.7300],\n",
       "         [0.7350],\n",
       "         [0.7400],\n",
       "         [0.7450]]))"
      ]
     },
     "execution_count": 157,
     "metadata": {},
     "output_type": "execute_result"
    }
   ],
   "source": [
    "# Create data using the linear regression formula: y = weight * X + bias\n",
    "weight = 0.5\n",
    "bias = 0.7\n",
    "\n",
    "# Creating the range values for the torch.arange function\n",
    "start = 0\n",
    "end = 1\n",
    "step = 0.01\n",
    "\n",
    "# Creating X and y (features and labels)\n",
    "X = torch.arange(start, end, step).unsqueeze(dim=1) # the unsqueeze part is needed to mitigate errors\n",
    "y = weight * X + bias\n",
    "\n",
    "X[:10], y[:10]"
   ]
  },
  {
   "cell_type": "code",
   "execution_count": 158,
   "metadata": {},
   "outputs": [
    {
     "data": {
      "text/plain": [
       "(80, 80, 20, 20)"
      ]
     },
     "execution_count": 158,
     "metadata": {},
     "output_type": "execute_result"
    }
   ],
   "source": [
    "# Splitting Data Into Training And Testing Data\n",
    "\n",
    "trainSplit = int(0.8 * len(X)) # multiply by 0.8 to get 80 percent testing data\n",
    "\n",
    "XTrain, yTrain = X[:trainSplit], y[:trainSplit]\n",
    "XTest, yTest = X[trainSplit:], y[trainSplit:]\n",
    "\n",
    "len(XTrain), len(yTrain), len(XTest), len(yTest)"
   ]
  },
  {
   "cell_type": "code",
   "execution_count": 159,
   "metadata": {},
   "outputs": [
    {
     "data": {
      "image/png": "[encoded data removed]",
      "text/plain": [
       "<Figure size 1000x700 with 1 Axes>"
      ]
     },
     "metadata": {},
     "output_type": "display_data"
    }
   ],
   "source": [
    "# Data Visualization\n",
    "def plotPredictions(trainData = XTrain, \n",
    "                    trainLabels = yTrain, \n",
    "                    testData = XTest, \n",
    "                    testLabels = yTest, \n",
    "                    prediction = None):\n",
    "# Plots training data, test data and comparing predictions\n",
    "\n",
    "    plt.figure(figsize = (10, 7)) \n",
    "    \n",
    "    plt.scatter(trainData, trainLabels, c = \"b\", label = \"Training Data\")\n",
    "\n",
    "    plt.scatter(testData, testLabels, c = \"g\", label = \"Testing Data\")\n",
    "\n",
    "    if prediction is not None:\n",
    "        plt.scatter(testData, prediction, c = \"r\", label = \"Prediction\")\n",
    "\n",
    "    plt.legend(prop = {\"size\": 14})\n",
    "\n",
    "\n",
    "plotPredictions(XTrain, yTrain, XTest, yTest)"
   ]
  },
  {
   "cell_type": "markdown",
   "metadata": {},
   "source": [
    "#### Building Or Picking A Linear Pytorch Model"
   ]
  },
  {
   "cell_type": "code",
   "execution_count": 160,
   "metadata": {},
   "outputs": [
    {
     "data": {
      "text/plain": [
       "(LinearRegressionModel(\n",
       "   (linearLayer): Linear(in_features=1, out_features=1, bias=True)\n",
       " ),\n",
       " OrderedDict([('linearLayer.weight', tensor([[0.7645]])),\n",
       "              ('linearLayer.bias', tensor([0.8300]))]))"
      ]
     },
     "execution_count": 160,
     "metadata": {},
     "output_type": "execute_result"
    }
   ],
   "source": [
    "# Create a linear model by using the subclass of nn.Module\n",
    "\n",
    "class LinearRegressionModel(nn.Module):\n",
    "    def __init__(self):\n",
    "        super().__init__()\n",
    "        # Use nn.Linear() (building a linear regression model, and data is linear) for creating the model parameters (also called linear transform)\n",
    "        self.linearLayer = nn.Linear(in_features=1, # torch.nn.Linear - applies a linear transformation to the incoming data: https://pytorch.org/docs/stable/generated/torch.nn.Linear.html\n",
    "                                     out_features=1) # input of 1, and output of 1 (based on input and output shape of the data)\n",
    "                                                     # feature (X) only has one element and the label (y) also has only one element. nn.linear also instantiates the parameters for you\n",
    "        \n",
    "    def forward(self, x: torch.Tensor) -> torch.Tensor:\n",
    "        return self.linearLayer(x)\n",
    "\n",
    "# setting manual seed \n",
    "torch.manual_seed(42)\n",
    "model1 = LinearRegressionModel()\n",
    "model1, model1.state_dict()"
   ]
  },
  {
   "cell_type": "code",
   "execution_count": 161,
   "metadata": {},
   "outputs": [
    {
     "data": {
      "text/plain": [
       "device(type='cpu')"
      ]
     },
     "execution_count": 161,
     "metadata": {},
     "output_type": "execute_result"
    }
   ],
   "source": [
    "# checking the current model device\n",
    "next(model1.parameters()).device"
   ]
  },
  {
   "cell_type": "code",
   "execution_count": 162,
   "metadata": {},
   "outputs": [],
   "source": [
    "# Setting the model to use the target device (which was set to cuda when a gpu was available)\n",
    "\n",
    "model1.to(device)\n",
    "\n",
    "next(model1.parameters()).device\n",
    "\n",
    "# Setting data onto the target device\n",
    "XTrain = XTrain.to(device)\n",
    "yTrain = yTrain.to(device)\n",
    "\n",
    "XTest = XTest.to(device)\n",
    "yTest = yTest.to(device)"
   ]
  },
  {
   "cell_type": "markdown",
   "metadata": {},
   "source": [
    "#### Model Training\n",
    "Training:\n",
    "* Loss Function\n",
    "* Optimizer\n",
    "* Training Loop\n",
    "* Testing Loop"
   ]
  },
  {
   "cell_type": "code",
   "execution_count": 163,
   "metadata": {},
   "outputs": [],
   "source": [
    "# Setting up Loss Function\n",
    "\n",
    "lossFunction = nn.L1Loss() # is the same as MAE (mean absolute error)\n",
    "\n",
    "# setting up optimizer\n",
    "optimizer = torch.optim.SGD(params=model1.parameters(),\n",
    "                            lr = 0.01)"
   ]
  },
  {
   "cell_type": "code",
   "execution_count": 164,
   "metadata": {},
   "outputs": [
    {
     "name": "stdout",
     "output_type": "stream",
     "text": [
      "Epochs: 0 | Loss: 0.23450064659118652 | Test Loss: 0.3532346785068512\n",
      "Epochs: 10 | Loss: 0.11889822781085968 | Test Loss: 0.21788227558135986\n",
      "Epochs: 20 | Loss: 0.04207168519496918 | Test Loss: 0.11362915486097336\n",
      "Epochs: 30 | Loss: 0.03235318511724472 | Test Loss: 0.0792485699057579\n",
      "Epochs: 40 | Loss: 0.028751522302627563 | Test Loss: 0.06714033335447311\n",
      "Epochs: 50 | Loss: 0.025325477123260498 | Test Loss: 0.059148769825696945\n",
      "Epochs: 60 | Loss: 0.02190040610730648 | Test Loss: 0.05081324651837349\n",
      "Epochs: 70 | Loss: 0.018474364653229713 | Test Loss: 0.04282166436314583\n",
      "Epochs: 80 | Loss: 0.015048320405185223 | Test Loss: 0.03483009338378906\n",
      "Epochs: 90 | Loss: 0.011623254977166653 | Test Loss: 0.026494557037949562\n",
      "Epochs: 100 | Loss: 0.008197206072509289 | Test Loss: 0.01850295625627041\n",
      "Epochs: 110 | Loss: 0.004771168809384108 | Test Loss: 0.010511410422623158\n",
      "Epochs: 120 | Loss: 0.0013778641587123275 | Test Loss: 0.0008424163097515702\n",
      "Epochs: 130 | Loss: 0.007524845190346241 | Test Loss: 0.0025090337730944157\n",
      "Epochs: 140 | Loss: 0.007524845190346241 | Test Loss: 0.0025090337730944157\n",
      "Epochs: 150 | Loss: 0.007524845190346241 | Test Loss: 0.0025090337730944157\n",
      "Epochs: 160 | Loss: 0.007524845190346241 | Test Loss: 0.0025090337730944157\n",
      "Epochs: 170 | Loss: 0.007524845190346241 | Test Loss: 0.0025090337730944157\n",
      "Epochs: 180 | Loss: 0.007524845190346241 | Test Loss: 0.0025090337730944157\n",
      "Epochs: 190 | Loss: 0.007524845190346241 | Test Loss: 0.0025090337730944157\n",
      "Epochs: 200 | Loss: 0.007524845190346241 | Test Loss: 0.0025090337730944157\n",
      "Epochs: 210 | Loss: 0.007524845190346241 | Test Loss: 0.0025090337730944157\n",
      "Epochs: 220 | Loss: 0.007524845190346241 | Test Loss: 0.0025090337730944157\n",
      "Epochs: 230 | Loss: 0.007524845190346241 | Test Loss: 0.0025090337730944157\n",
      "Epochs: 240 | Loss: 0.007524845190346241 | Test Loss: 0.0025090337730944157\n",
      "Epochs: 250 | Loss: 0.007524845190346241 | Test Loss: 0.0025090337730944157\n",
      "Epochs: 260 | Loss: 0.007524845190346241 | Test Loss: 0.0025090337730944157\n",
      "Epochs: 270 | Loss: 0.007524845190346241 | Test Loss: 0.0025090337730944157\n",
      "Epochs: 280 | Loss: 0.007524845190346241 | Test Loss: 0.0025090337730944157\n",
      "Epochs: 290 | Loss: 0.007524845190346241 | Test Loss: 0.0025090337730944157\n",
      "Epochs: 300 | Loss: 0.007524845190346241 | Test Loss: 0.0025090337730944157\n",
      "Epochs: 310 | Loss: 0.007524845190346241 | Test Loss: 0.0025090337730944157\n",
      "Epochs: 320 | Loss: 0.007524845190346241 | Test Loss: 0.0025090337730944157\n",
      "Epochs: 330 | Loss: 0.007524845190346241 | Test Loss: 0.0025090337730944157\n",
      "Epochs: 340 | Loss: 0.007524845190346241 | Test Loss: 0.0025090337730944157\n",
      "Epochs: 350 | Loss: 0.007524845190346241 | Test Loss: 0.0025090337730944157\n",
      "Epochs: 360 | Loss: 0.007524845190346241 | Test Loss: 0.0025090337730944157\n",
      "Epochs: 370 | Loss: 0.007524845190346241 | Test Loss: 0.0025090337730944157\n",
      "Epochs: 380 | Loss: 0.007524845190346241 | Test Loss: 0.0025090337730944157\n",
      "Epochs: 390 | Loss: 0.007524845190346241 | Test Loss: 0.0025090337730944157\n",
      "Epochs: 400 | Loss: 0.007524845190346241 | Test Loss: 0.0025090337730944157\n",
      "Epochs: 410 | Loss: 0.007524845190346241 | Test Loss: 0.0025090337730944157\n",
      "Epochs: 420 | Loss: 0.007524845190346241 | Test Loss: 0.0025090337730944157\n",
      "Epochs: 430 | Loss: 0.007524845190346241 | Test Loss: 0.0025090337730944157\n",
      "Epochs: 440 | Loss: 0.007524845190346241 | Test Loss: 0.0025090337730944157\n",
      "Epochs: 450 | Loss: 0.007524845190346241 | Test Loss: 0.0025090337730944157\n",
      "Epochs: 460 | Loss: 0.007524845190346241 | Test Loss: 0.0025090337730944157\n",
      "Epochs: 470 | Loss: 0.007524845190346241 | Test Loss: 0.0025090337730944157\n",
      "Epochs: 480 | Loss: 0.007524845190346241 | Test Loss: 0.0025090337730944157\n",
      "Epochs: 490 | Loss: 0.007524845190346241 | Test Loss: 0.0025090337730944157\n"
     ]
    }
   ],
   "source": [
    "# writing a training loop\n",
    "torch.manual_seed(42)\n",
    "\n",
    "epochs = 500\n",
    "\n",
    "for epoch in range(epochs):\n",
    "    model1.train()\n",
    "\n",
    "    # 1. Forward Pass\n",
    "    yPredictions = model1(XTrain)\n",
    "\n",
    "    # 2. Calculate Loss\n",
    "    loss = lossFunction(yPredictions, yTrain)\n",
    "\n",
    "    # 3. Optimizer Zero Grad\n",
    "    optimizer.zero_grad()\n",
    "\n",
    "    # 4. Perform Backpropagation\n",
    "    loss.backward()\n",
    "\n",
    "    # 5. Optimizer Step\n",
    "    optimizer.step()\n",
    "\n",
    "    ### Testing\n",
    "    model1.eval()\n",
    "    with torch.inference_mode():\n",
    "        testPrediction = model1(XTest)\n",
    "\n",
    "        testLoss = lossFunction(testPrediction, yTest)\n",
    "\n",
    "    # Print out what is happening \n",
    "    if epoch % 10 == 0:\n",
    "        print(f\"Epochs: {epoch} | Loss: {loss} | Test Loss: {testLoss}\")\n",
    "        # make sure that both the model and all the data (testing and training of both x and y) are on the same device to avoid errors"
   ]
  },
  {
   "cell_type": "code",
   "execution_count": 165,
   "metadata": {},
   "outputs": [
    {
     "data": {
      "text/plain": [
       "OrderedDict([('linearLayer.weight', tensor([[0.5070]], device='cuda:0')),\n",
       "             ('linearLayer.bias', tensor([0.7048], device='cuda:0'))])"
      ]
     },
     "execution_count": 165,
     "metadata": {},
     "output_type": "execute_result"
    }
   ],
   "source": [
    "model1.state_dict()"
   ]
  },
  {
   "cell_type": "code",
   "execution_count": 166,
   "metadata": {},
   "outputs": [
    {
     "data": {
      "text/plain": [
       "(0.5, 0.7)"
      ]
     },
     "execution_count": 166,
     "metadata": {},
     "output_type": "execute_result"
    }
   ],
   "source": [
    "weight, bias"
   ]
  },
  {
   "cell_type": "markdown",
   "metadata": {},
   "source": [
    "#### Making and Visualizing Predictions"
   ]
  },
  {
   "cell_type": "code",
   "execution_count": 167,
   "metadata": {},
   "outputs": [
    {
     "data": {
      "text/plain": [
       "tensor([[1.1104],\n",
       "        [1.1154],\n",
       "        [1.1205],\n",
       "        [1.1256],\n",
       "        [1.1306],\n",
       "        [1.1357],\n",
       "        [1.1408],\n",
       "        [1.1459],\n",
       "        [1.1509],\n",
       "        [1.1560],\n",
       "        [1.1611],\n",
       "        [1.1661],\n",
       "        [1.1712],\n",
       "        [1.1763],\n",
       "        [1.1813],\n",
       "        [1.1864],\n",
       "        [1.1915],\n",
       "        [1.1966],\n",
       "        [1.2016],\n",
       "        [1.2067]], device='cuda:0')"
      ]
     },
     "execution_count": 167,
     "metadata": {},
     "output_type": "execute_result"
    }
   ],
   "source": [
    "# Turn Model into evaluation mode\n",
    "model1.eval()\n",
    "\n",
    "# making predictions on the test data\n",
    "with torch.inference_mode():\n",
    "    yPredictions = model1(XTest)\n",
    "\n",
    "yPredictions"
   ]
  },
  {
   "cell_type": "code",
   "execution_count": 168,
   "metadata": {},
   "outputs": [
    {
     "data": {
      "image/png": "[encoded data removed]",
      "text/plain": [
       "<Figure size 1000x700 with 1 Axes>"
      ]
     },
     "metadata": {},
     "output_type": "display_data"
    }
   ],
   "source": [
    "# Visualize model predictions\n",
    "\n",
    "plotPredictions(prediction=yPredictions.cpu()) # have to call tensor.cpu() in order to set the "
   ]
  },
  {
   "cell_type": "markdown",
   "metadata": {},
   "source": [
    "#### Saving and Loading Model"
   ]
  },
  {
   "cell_type": "code",
   "execution_count": 169,
   "metadata": {},
   "outputs": [
    {
     "name": "stdout",
     "output_type": "stream",
     "text": [
      "Saving Model to: Models\\Lesson30_Model1.pth\n"
     ]
    }
   ],
   "source": [
    "from pathlib import Path\n",
    "\n",
    "# Creating the models directory\n",
    "MODEL_PATH = Path(\"Models\")\n",
    "MODEL_PATH.mkdir(parents = True, exist_ok = True)\n",
    "\n",
    "# Creating a model save path\n",
    "MODEL_NAME = \"Lesson30_Model1.pth\"\n",
    "MODEL_SAVE_PATH = MODEL_PATH / MODEL_NAME\n",
    "\n",
    "print(f\"Saving Model to: {MODEL_SAVE_PATH}\")\n",
    "torch.save(obj = model1.state_dict(),\n",
    "           f = MODEL_SAVE_PATH)"
   ]
  },
  {
   "cell_type": "markdown",
   "metadata": {},
   "source": [
    "#### Loading a Pytorch Model"
   ]
  },
  {
   "cell_type": "code",
   "execution_count": 170,
   "metadata": {},
   "outputs": [
    {
     "data": {
      "text/plain": [
       "LinearRegressionModel(\n",
       "  (linearLayer): Linear(in_features=1, out_features=1, bias=True)\n",
       ")"
      ]
     },
     "execution_count": 170,
     "metadata": {},
     "output_type": "execute_result"
    }
   ],
   "source": [
    "# Loading a Pytorch Model\n",
    "\n",
    "# Creating a new instance of our linear regression model\n",
    "\n",
    "loadedModel1 = LinearRegressionModel()\n",
    "\n",
    "# loading model1 state dictionary\n",
    "loadedModel1.load_state_dict(torch.load(MODEL_SAVE_PATH))\n",
    "\n",
    "# put loaded model to device\n",
    "loadedModel1.to(device)"
   ]
  },
  {
   "cell_type": "code",
   "execution_count": 171,
   "metadata": {},
   "outputs": [
    {
     "data": {
      "text/plain": [
       "device(type='cuda', index=0)"
      ]
     },
     "execution_count": 171,
     "metadata": {},
     "output_type": "execute_result"
    }
   ],
   "source": [
    "next(loadedModel1.parameters()).device"
   ]
  },
  {
   "cell_type": "code",
   "execution_count": 172,
   "metadata": {},
   "outputs": [
    {
     "data": {
      "text/plain": [
       "OrderedDict([('linearLayer.weight', tensor([[0.5070]], device='cuda:0')),\n",
       "             ('linearLayer.bias', tensor([0.7048], device='cuda:0'))])"
      ]
     },
     "execution_count": 172,
     "metadata": {},
     "output_type": "execute_result"
    }
   ],
   "source": [
    "loadedModel1.state_dict()"
   ]
  },
  {
   "cell_type": "code",
   "execution_count": 173,
   "metadata": {},
   "outputs": [
    {
     "data": {
      "text/plain": [
       "tensor([[True],\n",
       "        [True],\n",
       "        [True],\n",
       "        [True],\n",
       "        [True],\n",
       "        [True],\n",
       "        [True],\n",
       "        [True],\n",
       "        [True],\n",
       "        [True],\n",
       "        [True],\n",
       "        [True],\n",
       "        [True],\n",
       "        [True],\n",
       "        [True],\n",
       "        [True],\n",
       "        [True],\n",
       "        [True],\n",
       "        [True],\n",
       "        [True]], device='cuda:0')"
      ]
     },
     "execution_count": 173,
     "metadata": {},
     "output_type": "execute_result"
    }
   ],
   "source": [
    "# Evaluating Loaded Model\n",
    "\n",
    "loadedModel1.eval()\n",
    "\n",
    "with torch.inference_mode():\n",
    "    loadedModel1Predictions = loadedModel1(XTest)\n",
    "\n",
    "\n",
    "yPredictions == loadedModel1Predictions"
   ]
  }
 ],
 "metadata": {
  "kernelspec": {
   "display_name": "mlenv",
   "language": "python",
   "name": "python3"
  },
  "language_info": {
   "codemirror_mode": {
    "name": "ipython",
    "version": 3
   },
   "file_extension": ".py",
   "mimetype": "text/x-python",
   "name": "python",
   "nbconvert_exporter": "python",
   "pygments_lexer": "ipython3",
   "version": "3.9.18"
  }
 },
 "nbformat": 4,
 "nbformat_minor": 2
}
