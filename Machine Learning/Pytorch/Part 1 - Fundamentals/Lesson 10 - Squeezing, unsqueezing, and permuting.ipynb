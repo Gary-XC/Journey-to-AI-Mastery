{
 "cells": [
  {
   "cell_type": "markdown",
   "metadata": {},
   "source": [
    "### Squeezing, Unsqueezing, and Permuting\n",
    "\n",
    "* Squeeze - removes all of the `1` dimensions (single dimensions) from a tensor\n",
    "* Unsqueeze - adds a `1` dimension to a target tensor\n",
    "* Permute - Returns a view of the tensor with the dimensions swapped(permuted) in a certain way"
   ]
  },
  {
   "cell_type": "code",
   "execution_count": 2,
   "metadata": {},
   "outputs": [
    {
     "data": {
      "text/plain": [
       "(tensor([[1., 2., 3., 4., 5., 6., 7., 8., 9.]]), torch.Size([1, 9]))"
      ]
     },
     "execution_count": 2,
     "metadata": {},
     "output_type": "execute_result"
    }
   ],
   "source": [
    "import torch # type: ignore\n",
    "\n",
    "# 1. creating a tensor\n",
    "x = torch.arange(1., 10.)\n",
    "\n",
    "# copying over code from lesson 9 to match up with the tutorial \n",
    "xReshape = x.reshape(1, 9)\n",
    "\n",
    "xReshape, xReshape.shape"
   ]
  },
  {
   "cell_type": "code",
   "execution_count": 3,
   "metadata": {},
   "outputs": [
    {
     "data": {
      "text/plain": [
       "tensor([1., 2., 3., 4., 5., 6., 7., 8., 9.])"
      ]
     },
     "execution_count": 3,
     "metadata": {},
     "output_type": "execute_result"
    }
   ],
   "source": [
    "# looking at x with squeeze applied looks like\n",
    "\n",
    "xReshape.squeeze()\n",
    "# removes all single dimenstions from a target tensor --> shown here as the tensor changes from 2 square brackets to only 1 square bracket"
   ]
  },
  {
   "cell_type": "code",
   "execution_count": 4,
   "metadata": {},
   "outputs": [
    {
     "data": {
      "text/plain": [
       "torch.Size([9])"
      ]
     },
     "execution_count": 4,
     "metadata": {},
     "output_type": "execute_result"
    }
   ],
   "source": [
    "xReshape.squeeze().shape\n",
    "\n",
    "# we can see here the the tensor has also been changed to where there is only a single tensor of size nine\n",
    "# if there was a tensor of [1,1,9], then .squeeze would remove all of the 1 tensors, ending up as 9 only"
   ]
  },
  {
   "cell_type": "code",
   "execution_count": 5,
   "metadata": {},
   "outputs": [
    {
     "name": "stdout",
     "output_type": "stream",
     "text": [
      "Previous Tensor: tensor([[1., 2., 3., 4., 5., 6., 7., 8., 9.]])\n",
      "Previous Tensor Shape: torch.Size([1, 9])\n",
      "\n",
      "New Tensor: tensor([1., 2., 3., 4., 5., 6., 7., 8., 9.])\n",
      "New Tensor Shape: torch.Size([9])\n"
     ]
    }
   ],
   "source": [
    "# visulization of .squeeze()\n",
    "\n",
    "print(f\"Previous Tensor: {xReshape}\")\n",
    "print(f\"Previous Tensor Shape: {xReshape.shape}\")\n",
    "\n",
    "print()\n",
    "\n",
    "print(f\"New Tensor: {xReshape.squeeze()}\")\n",
    "print(f\"New Tensor Shape: {xReshape.squeeze().shape}\")\n",
    "\n",
    "# as we can the the previous tensor has 2 square brackets, and the new tensor that has been squeezed only has 1 now, as well the shape of the squeezed tensor has also \n",
    "# changed"
   ]
  },
  {
   "cell_type": "code",
   "execution_count": 6,
   "metadata": {},
   "outputs": [
    {
     "data": {
      "text/plain": [
       "tensor([[1., 2., 3., 4., 5., 6., 7., 8., 9.]])"
      ]
     },
     "execution_count": 6,
     "metadata": {},
     "output_type": "execute_result"
    }
   ],
   "source": [
    "# Now testing out .unsqueeze()\n",
    "# adds a single dimension to a targeted vector at a specific dimension (dim)\n",
    "\n",
    "xSqueeze = xReshape.squeeze() # creating a new variable to test out how unsqueeze works on a tensor that has been squeezed\n",
    "\n",
    "xSqueeze.unsqueeze(dim = 0)"
   ]
  },
  {
   "cell_type": "code",
   "execution_count": 7,
   "metadata": {},
   "outputs": [
    {
     "name": "stdout",
     "output_type": "stream",
     "text": [
      "Previous Tensor: tensor([1., 2., 3., 4., 5., 6., 7., 8., 9.])\n",
      "Previous Tensor Shape: torch.Size([9])\n",
      "\n",
      "New Tensor After Unsqueezing: tensor([[1., 2., 3., 4., 5., 6., 7., 8., 9.]])\n",
      "New Tensor Shape After Unsqueezing: torch.Size([1, 9])\n"
     ]
    }
   ],
   "source": [
    "# Visulization of .unsqueeze(dim)\n",
    "\n",
    "print(f\"Previous Tensor: {xSqueeze}\")\n",
    "print(f\"Previous Tensor Shape: {xSqueeze.shape}\")\n",
    "\n",
    "print()\n",
    "\n",
    "print(f\"New Tensor After Unsqueezing: {xSqueeze.unsqueeze(dim=0)}\")\n",
    "print(f\"New Tensor Shape After Unsqueezing: {xSqueeze.unsqueeze(dim=0).shape}\")"
   ]
  },
  {
   "cell_type": "code",
   "execution_count": 8,
   "metadata": {},
   "outputs": [
    {
     "name": "stdout",
     "output_type": "stream",
     "text": [
      "New Tensor After Unsqueezing: tensor([[1.],\n",
      "        [2.],\n",
      "        [3.],\n",
      "        [4.],\n",
      "        [5.],\n",
      "        [6.],\n",
      "        [7.],\n",
      "        [8.],\n",
      "        [9.]])\n",
      "New Tensor Shape After Unsqueezing: torch.Size([9, 1])\n"
     ]
    }
   ],
   "source": [
    "# Seeing how different dimensions will change the dimensions\n",
    "\n",
    "# dimensions of 1 will add a new dimension on the first dimension\n",
    "print(f\"New Tensor After Unsqueezing: {xSqueeze.unsqueeze(dim=1)}\")\n",
    "print(f\"New Tensor Shape After Unsqueezing: {xSqueeze.unsqueeze(dim=1).shape}\")\n",
    "\n",
    "# the range of dimensions for a tensor with a shape of [9] will be the range of [-2, 1] as the possible dimensions are 0 and 1, and the possible tensors are -2, -1, 0, 1\n",
    "# since -1 will loop back to 1, and -2 corresponds to 0\n",
    "# and in this case anything larger than "
   ]
  },
  {
   "cell_type": "code",
   "execution_count": 12,
   "metadata": {},
   "outputs": [
    {
     "name": "stdout",
     "output_type": "stream",
     "text": [
      "Previous Shape: torch.Size([244, 244, 3])\n",
      "New Shape: torch.Size([3, 244, 244])\n"
     ]
    }
   ],
   "source": [
    "# torch.permute - will rearrange the dimensions of a specified target tensor in a specific order, and is a view of the data\n",
    "# parameters: torch.permute(input, dims) --> outputs a new tensor\n",
    "# imput: tensor\n",
    "# dims: tuple of int --> your wanted ordering of dimensions\n",
    "\n",
    "# commonly used with images\n",
    "\n",
    "xOriginal = torch.rand(size = (244, 244, 3)) # [height, width, colour_channels]\n",
    "\n",
    "# using permute to change the original tensor to rearragne the axis order so that the colour_channels is the first dimension\n",
    "\n",
    "# permute changes the order of the original tensor by changing the position of the index in the tensor.permute() function by specifying the order of the indexes in the permute function\n",
    "xPermute = xOriginal.permute(2, 0, 1) # this shifts 0 -> 2, 1 -> 0, and 2 -> 1\n",
    "\n",
    "# where the last element(colour_channels) in xOriginal now maps to the first item in xPermute, and the first element(height) in xOriginal maps to the second item, \n",
    "# and the second element(width) now maps to the last item in xPermute \n",
    "\n",
    "\n",
    "print(f\"Previous Shape: {xOriginal.shape}\")\n",
    "print(f\"New Shape: {xPermute.shape}\") # [colour_channels, width, height]\n",
    "\n",
    "# the same data are in the two tensors as they share the same data but with a different view and shape\n",
    "# views in pytorch share the same memory as the original tensor"
   ]
  },
  {
   "cell_type": "code",
   "execution_count": 17,
   "metadata": {},
   "outputs": [
    {
     "name": "stdout",
     "output_type": "stream",
     "text": [
      "New shapes value at index [0, 0, 0]: 11223344.0\n"
     ]
    }
   ],
   "source": [
    "xOriginal[0, 0, 0] = 11223344\n",
    "# setting a specific value of the original value to see if xPermute will change with the value\n",
    "\n",
    "print(f\"New shapes value at index [0, 0, 0]: {xPermute[0, 0, 0]}\")\n",
    "# here we can see that changing the original tensor also changes the permuted tensor meaning that the two are connected\n",
    "# with the changes of one tensor affecting the other"
   ]
  }
 ],
 "metadata": {
  "kernelspec": {
   "display_name": "mlenv",
   "language": "python",
   "name": "python3"
  },
  "language_info": {
   "codemirror_mode": {
    "name": "ipython",
    "version": 3
   },
   "file_extension": ".py",
   "mimetype": "text/x-python",
   "name": "python",
   "nbconvert_exporter": "python",
   "pygments_lexer": "ipython3",
   "version": "3.9.18"
  }
 },
 "nbformat": 4,
 "nbformat_minor": 2
}
